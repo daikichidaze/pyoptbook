{
 "cells": [
  {
   "cell_type": "code",
   "execution_count": 1,
   "metadata": {},
   "outputs": [],
   "source": [
    "import pulp"
   ]
  },
  {
   "cell_type": "markdown",
   "metadata": {},
   "source": [
    "# 2.1"
   ]
  },
  {
   "cell_type": "code",
   "execution_count": 2,
   "metadata": {},
   "outputs": [],
   "source": [
    "problem = pulp.LpProblem('SLE', pulp.LpMaximize)\n",
    "# SLE= Simultaneous Liner Equations\n",
    "\n",
    "x = pulp.LpVariable('x', cat='Continuous') # 連続変数\n",
    "y = pulp.LpVariable('y', cat='Continuous')\n",
    "\n",
    "problem += 120 * x + 150 * y ==1440\n",
    "problem += x + y == 10\n",
    "\n",
    "status = problem.solve()"
   ]
  },
  {
   "cell_type": "code",
   "execution_count": 3,
   "metadata": {},
   "outputs": [
    {
     "data": {
      "text/plain": [
       "('Status:', 'Optimal')"
      ]
     },
     "execution_count": 3,
     "metadata": {},
     "output_type": "execute_result"
    }
   ],
   "source": [
    "'Status:', pulp.LpStatus[status]"
   ]
  },
  {
   "cell_type": "code",
   "execution_count": 4,
   "metadata": {},
   "outputs": [
    {
     "data": {
      "text/plain": [
       "'x=2.0, y=8.0'"
      ]
     },
     "execution_count": 4,
     "metadata": {},
     "output_type": "execute_result"
    }
   ],
   "source": [
    "f'x={x.value()}, y={y.value()}'"
   ]
  },
  {
   "cell_type": "markdown",
   "metadata": {},
   "source": [
    "# 2.2"
   ]
  },
  {
   "cell_type": "markdown",
   "metadata": {},
   "source": [
    "- Product p -> material m = 1kg/kg, n = 2kg/kg\n",
    "- Product q -> material m = 3kg/kg, n = 1kg/kg\n",
    "- material m <= 30, n <= 40\n",
    "- profit p=1, q=2"
   ]
  },
  {
   "cell_type": "code",
   "execution_count": 5,
   "metadata": {},
   "outputs": [],
   "source": [
    "problem = pulp.LpProblem('product', pulp.LpMaximize)\n",
    "\n",
    "x1 = pulp.LpVariable('x1', cat='Continuous')\n",
    "x2 = pulp.LpVariable('x2', cat='Continuous')\n",
    "\n",
    "problem += x1 + 2 * x2\n",
    "\n",
    "problem += x1 + 3 * x2 <= 30\n",
    "problem += 2 * x1 + x2 <= 40\n",
    "\n",
    "problem += x1 >= 0\n",
    "problem += x2 >= 0\n",
    "\n",
    "status = problem.solve()"
   ]
  },
  {
   "cell_type": "code",
   "execution_count": 6,
   "metadata": {},
   "outputs": [
    {
     "data": {
      "text/plain": [
       "('Status:', 'Optimal')"
      ]
     },
     "execution_count": 6,
     "metadata": {},
     "output_type": "execute_result"
    }
   ],
   "source": [
    "'Status:', pulp.LpStatus[status]"
   ]
  },
  {
   "cell_type": "code",
   "execution_count": 7,
   "metadata": {},
   "outputs": [
    {
     "data": {
      "text/plain": [
       "'p=18.0, q=4.0, obj=26.0'"
      ]
     },
     "execution_count": 7,
     "metadata": {},
     "output_type": "execute_result"
    }
   ],
   "source": [
    "f'p={x1.value()}, q={x2.value()}, obj={problem.objective.value()}'"
   ]
  },
  {
   "cell_type": "markdown",
   "metadata": {},
   "source": [
    "# 2.3"
   ]
  },
  {
   "cell_type": "code",
   "execution_count": 8,
   "metadata": {},
   "outputs": [],
   "source": [
    "import pandas as pd"
   ]
  },
  {
   "cell_type": "code",
   "execution_count": 11,
   "metadata": {},
   "outputs": [],
   "source": [
    "df_stock = pd.read_csv('stocks.csv')\n",
    "df_requires = pd.read_csv('requires.csv')\n",
    "df_gains = pd.read_csv('gains.csv')"
   ]
  },
  {
   "cell_type": "code",
   "execution_count": 26,
   "metadata": {},
   "outputs": [],
   "source": [
    "P = df_gains['p'].tolist()\n",
    "M = df_stock['m'].to_list()"
   ]
  },
  {
   "cell_type": "code",
   "execution_count": 25,
   "metadata": {},
   "outputs": [],
   "source": [
    "stock = df_stock.set_index('m')['stock'].to_dict()\n",
    "requires = df_requires.set_index(['p', 'm'])['require'].to_dict()\n",
    "gain = df_gains.set_index('p')['gain'].to_dict()"
   ]
  },
  {
   "cell_type": "code",
   "execution_count": 46,
   "metadata": {},
   "outputs": [],
   "source": [
    "def change_variable_type(type_name):\n",
    "    result =''\n",
    "\n",
    "    problem = pulp.LpProblem('LP2', pulp.LpMaximize)\n",
    "    x = pulp.LpVariable.dicts('x', P, cat=type_name)\n",
    "\n",
    "    for p in P:\n",
    "        problem += x[p] >= 0\n",
    "\n",
    "    for m in M:\n",
    "        problem += pulp.lpSum([requires[p,m] * x[p] for p in P]) <= stock[m]\n",
    "\n",
    "\n",
    "    problem += pulp.lpSum([gain[p] * x[p] for p in P])\n",
    "    status = problem.solve()\n",
    "    result += f'Status: {pulp.LpStatus[status]}'\n",
    "    result += '\\n'\n",
    "\n",
    "    for p in P:\n",
    "        result += f'{p}, {x[p].value()}'\n",
    "        result += '\\n'\n",
    "    result += f'obj={problem.objective.value()}'\n",
    "    return result"
   ]
  },
  {
   "cell_type": "code",
   "execution_count": 47,
   "metadata": {},
   "outputs": [
    {
     "name": "stdout",
     "output_type": "stream",
     "text": [
      "Status: Optimal\n",
      "p1, 12.142857\n",
      "p2, 3.5714286\n",
      "p3, 7.4285714\n",
      "p4, 0.0\n",
      "obj=80.42857099999999\n"
     ]
    }
   ],
   "source": [
    "print(change_variable_type('Continuous'))"
   ]
  },
  {
   "cell_type": "code",
   "execution_count": 48,
   "metadata": {},
   "outputs": [
    {
     "name": "stdout",
     "output_type": "stream",
     "text": [
      "Status: Optimal\n",
      "p1, 13.0\n",
      "p2, 3.0\n",
      "p3, 7.0\n",
      "p4, -0.0\n",
      "obj=79.0\n"
     ]
    }
   ],
   "source": [
    "print(change_variable_type('Integer'))"
   ]
  },
  {
   "cell_type": "code",
   "execution_count": null,
   "metadata": {},
   "outputs": [],
   "source": []
  }
 ],
 "metadata": {
  "interpreter": {
   "hash": "31f2aee4e71d21fbe5cf8b01ff0e069b9275f58929596ceb00d14d90e3e16cd6"
  },
  "kernelspec": {
   "display_name": "Python 3.7.3 64-bit",
   "language": "python",
   "name": "python3"
  },
  "language_info": {
   "codemirror_mode": {
    "name": "ipython",
    "version": 3
   },
   "file_extension": ".py",
   "mimetype": "text/x-python",
   "name": "python",
   "nbconvert_exporter": "python",
   "pygments_lexer": "ipython3",
   "version": "3.9.1"
  },
  "orig_nbformat": 4
 },
 "nbformat": 4,
 "nbformat_minor": 2
}
