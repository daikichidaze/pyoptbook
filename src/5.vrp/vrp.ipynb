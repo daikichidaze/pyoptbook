{
 "cells": [
  {
   "cell_type": "code",
   "execution_count": 1,
   "metadata": {},
   "outputs": [],
   "source": [
    "from IPython.core.display import display\n",
    "import numpy as np\n",
    "import pandas as pd\n",
    "import os, sys\n",
    "import matplotlib.pyplot as plt\n",
    "import matplotlib as mpl\n",
    "import seaborn as sns\n",
    "import pulp\n",
    "from itertools import product, combinations_with_replacement\n",
    "from joblib import Parallel, delayed"
   ]
  },
  {
   "cell_type": "code",
   "execution_count": 2,
   "metadata": {},
   "outputs": [],
   "source": [
    "np.random.seed(10)\n",
    "num_places = 10 # number of POI\n",
    "num_days = 30 # plan days\n",
    "num_requests = 120 # number of orders"
   ]
  },
  {
   "cell_type": "code",
   "execution_count": 3,
   "metadata": {},
   "outputs": [],
   "source": [
    "mean_travel_time_to_destinations = 100 # average time for all orders\n",
    "H_regular = 8*60 # 8 hours / day\n",
    "H_max_overtime = 3*60 # 3 hours / day\n",
    "c = 3000 // 60 # cost for over time / min\n",
    "W = 4000 # 4000kg truck\n",
    "delivery_outsorcing_unit_cost = 4600 # cost 4600 / 100 kg\n",
    "delivery_time_window = 3 # window days for order\n",
    "avg_weight = 1000 # average weight of orders"
   ]
  },
  {
   "cell_type": "code",
   "execution_count": 4,
   "metadata": {},
   "outputs": [],
   "source": [
    "K = range(num_places) # list of POIs\n",
    "o = 0 # id for center POI\n",
    "K_minus_o = K[1:] # id list for destination POIs\n",
    "_K = np.random.normal(0, mean_travel_time_to_destinations, size=(len(K), 2)) #coordinate of POIs\n",
    "_K[0, :] = 0 #Coordinate of center POI is 0\n",
    "t = np.array([[np.floor(np.linalg.norm(_K[k] - K[l]))for k in K] for l in K])\n",
    "D = range(num_days) # list of days\n"
   ]
  },
  {
   "cell_type": "code",
   "execution_count": 5,
   "metadata": {},
   "outputs": [],
   "source": [
    "R = range(num_requests) # list of order\n",
    "#k[r] = distnation for order r\n",
    "k = np.random.choice(K_minus_o, size=len(R))\n",
    "#d_0[r] = start date to deliver order r\n",
    "d_0 = np.random.choice(D, size=len(R))\n",
    "#d_1[r] = end date to deliver order r\n",
    "d_1 = d_0 + delivery_time_window - 1\n",
    "#w[r] = weight for order r\n",
    "w = np.floor(np.random.gamma(10, avg_weight/10, size=len(R)))\n",
    "#f[r] = cost of outsourcing order r\n",
    "f = np.ceil(w/100)*delivery_outsorcing_unit_cost"
   ]
  },
  {
   "cell_type": "code",
   "execution_count": 6,
   "metadata": {},
   "outputs": [
    {
     "data": {
      "image/png": "[encoded data removed]",
      "text/plain": [
       "<Figure size 432x288 with 1 Axes>"
      ]
     },
     "metadata": {
      "needs_background": "light"
     },
     "output_type": "display_data"
    }
   ],
   "source": [
    "a = plt.subplot()\n",
    "a.scatter(_K[1:,0], _K[1:,1], marker='x')\n",
    "a.scatter(_K[0,0], _K[0,1], marker='o')\n",
    "a.set_aspect('equal')\n",
    "plt.show()"
   ]
  },
  {
   "cell_type": "code",
   "execution_count": 7,
   "metadata": {},
   "outputs": [
    {
     "data": {
      "text/plain": [
       "(array([ 0.,  0.,  0.,  0.,  2.,  9.,  7., 11., 14., 12., 22., 14., 14.,\n",
       "         9.,  2.,  1.,  2.,  0.,  1.,  0.]),\n",
       " array([   0.,  100.,  200.,  300.,  400.,  500.,  600.,  700.,  800.,\n",
       "         900., 1000., 1100., 1200., 1300., 1400., 1500., 1600., 1700.,\n",
       "        1800., 1900., 2000.]),\n",
       " <BarContainer object of 20 artists>)"
      ]
     },
     "execution_count": 7,
     "metadata": {},
     "output_type": "execute_result"
    },
    {
     "data": {
      "image/png": "[encoded data removed]",
      "text/plain": [
       "<Figure size 432x288 with 1 Axes>"
      ]
     },
     "metadata": {
      "needs_background": "light"
     },
     "output_type": "display_data"
    }
   ],
   "source": [
    "plt.hist(w, bins=20, range=(0,2000))"
   ]
  },
  {
   "cell_type": "code",
   "execution_count": 8,
   "metadata": {},
   "outputs": [],
   "source": [
    "# create schedules\n",
    "def simulate_route(z : list):\n",
    "    # z[k]=1 -> Arrived to POI k\n",
    "    if z[0] == 0:\n",
    "        return None # No route don't pass center\n",
    "    daily_route_prob = pulp.LpProblem(sense=pulp.LpMinimize)\n",
    "\n",
    "    x = {\n",
    "        (k, l):pulp.LpVariable(f'x_{k}_{l}a', cat='Binary') \n",
    "        if k!=l else pulp.LpAffineExpression() for k, l in product(K, K)\n",
    "    }\n",
    "\n",
    "    u = {\n",
    "        k: pulp.LpVariable(f'u_{k}', lowBound=1, upBound=len(K)-1)\n",
    "        for k in K_minus_o\n",
    "    }\n",
    "\n",
    "    h = pulp.LpVariable('h', lowBound=0, cat='Continuous')\n",
    "\n",
    "    for l in K:\n",
    "        daily_route_prob += (\n",
    "            pulp.lpSum([x[k,l] for k in K]) <= 1\n",
    "        )\n",
    "    for l in K:\n",
    "        if z[l] == 1:\n",
    "            daily_route_prob += (\n",
    "                pulp.lpSum([x[k,l] for k in K]) == 1\n",
    "            )\n",
    "            daily_route_prob += (\n",
    "                pulp.lpSum([x[l,k] for k in K]) == 1\n",
    "            )\n",
    "        else:\n",
    "            daily_route_prob += (\n",
    "                pulp.lpSum([x[k,l] for k in K]) == 0\n",
    "            )\n",
    "            daily_route_prob += (\n",
    "                pulp.lpSum([x[l,k] for k in K]) == 0\n",
    "            )\n",
    "\n",
    "    for k,l in product(K_minus_o, K_minus_o): # reduce cycle\n",
    "        daily_route_prob += (\n",
    "            u[k] + 1 <= u[l] + len(K_minus_o) * (1-x[k,l])\n",
    "        )\n",
    "\n",
    "    travel = pulp.lpSum([t[k,l] * x[k,l] for k, l in product(K,K)])\n",
    "    daily_route_prob += (travel - H_regular <= h)\n",
    "    daily_route_prob += (h <= H_max_overtime)\n",
    "\n",
    "    daily_route_prob += travel\n",
    "    daily_route_prob.solve()\n",
    "\n",
    "    return {\n",
    "        'z':z,\n",
    "        'route':{(k,l):x[k,l].value() for k,l in product(K,K)},\n",
    "        'optimal': daily_route_prob.status == 1,\n",
    "        'moving_time':travel.value(),\n",
    "        'overtime':h.value()\n",
    "    }\n",
    "\n",
    "def enumerate_routes():\n",
    "    routes = Parallel(n_jobs=16, prefer='threads')(\n",
    "        [delayed(simulate_route)(z) for z in product([0,1], repeat=len(K))]\n",
    "    )\n",
    "    routes = pd.DataFrame(filter(lambda x: x is not None, routes))\n",
    "\n",
    "    routes = routes[routes.optimal].copy()\n",
    "    return routes\n",
    "\n",
    "routes_df = enumerate_routes()"
   ]
  },
  {
   "cell_type": "code",
   "execution_count": null,
   "metadata": {},
   "outputs": [],
   "source": []
  }
 ],
 "metadata": {
  "interpreter": {
   "hash": "949777d72b0d2535278d3dc13498b2535136f6dfe0678499012e853ee9abcab1"
  },
  "kernelspec": {
   "display_name": "Python 3.9.1 64-bit",
   "language": "python",
   "name": "python3"
  },
  "language_info": {
   "codemirror_mode": {
    "name": "ipython",
    "version": 3
   },
   "file_extension": ".py",
   "mimetype": "text/x-python",
   "name": "python",
   "nbconvert_exporter": "python",
   "pygments_lexer": "ipython3",
   "version": "3.9.1"
  },
  "orig_nbformat": 4
 },
 "nbformat": 4,
 "nbformat_minor": 2
}
