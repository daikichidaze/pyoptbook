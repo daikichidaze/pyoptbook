{
 "cells": [
  {
   "cell_type": "code",
   "execution_count": 1,
   "metadata": {},
   "outputs": [],
   "source": [
    "from IPython.core.display import display\n",
    "import numpy as np\n",
    "import pandas as pd\n",
    "import os, sys\n",
    "import matplotlib.pyplot as plt\n",
    "import matplotlib as mpl\n",
    "import seaborn as sns\n",
    "import pulp\n",
    "from itertools import product, combinations_with_replacement\n",
    "from joblib import Parallel, delayed"
   ]
  },
  {
   "cell_type": "code",
   "execution_count": 2,
   "metadata": {},
   "outputs": [],
   "source": [
    "np.random.seed(10)\n",
    "num_places = 10 # number of POI\n",
    "num_days = 30 # plan days\n",
    "num_requests = 120 # number of orders"
   ]
  },
  {
   "cell_type": "code",
   "execution_count": 3,
   "metadata": {},
   "outputs": [],
   "source": [
    "mean_travel_time_to_destinations = 100 # average time for all orders\n",
    "H_regular = 8*60 # 8 hours / day\n",
    "H_max_overtime = 3*60 # 3 hours / day\n",
    "c = 3000 // 60 # cost for over time / min\n",
    "W = 4000 # 4000kg truck\n",
    "delivery_outsorcing_unit_cost = 4600 # cost 4600 / 100 kg\n",
    "delivery_time_window = 3 # window days for order\n",
    "avg_weight = 1000 # average weight of orders"
   ]
  },
  {
   "cell_type": "code",
   "execution_count": 4,
   "metadata": {},
   "outputs": [],
   "source": [
    "K = range(num_places) # list of POIs\n",
    "o = 0 # id for center POI\n",
    "K_minus_o = K[1:] # id list for destination POIs\n",
    "_K = np.random.normal(0, mean_travel_time_to_destinations, size=(len(K), 2)) #coordinate of POIs\n",
    "_K[0, :] = 0 #Coordinate of center POI is 0\n",
    "t = np.array([[np.floor(np.linalg.norm(_K[k] - K[l]))for k in K] for l in K])\n",
    "D = range(num_days) # list of days\n"
   ]
  },
  {
   "cell_type": "code",
   "execution_count": 5,
   "metadata": {},
   "outputs": [],
   "source": [
    "R = range(num_requests) # list of order\n",
    "#k[r] = distnation for order r\n",
    "k = np.random.choice(K_minus_o, size=len(R))\n",
    "#d_0[r] = start date to deliver order r\n",
    "d_0 = np.random.choice(D, size=len(R))\n",
    "#d_1[r] = end date to deliver order r\n",
    "d_1 = d_0 + delivery_time_window - 1\n",
    "#w[r] = weight for order r\n",
    "w = np.floor(np.random.gamma(10, avg_weight/10, size=len(R)))\n",
    "#f[r] = cost of outsourcing order r\n",
    "f = np.ceil(w/100)*delivery_outsorcing_unit_cost"
   ]
  },
  {
   "cell_type": "code",
   "execution_count": 6,
   "metadata": {},
   "outputs": [
    {
     "data": {
      "image/png": "[encoded data removed]",
      "text/plain": [
       "<Figure size 432x288 with 1 Axes>"
      ]
     },
     "metadata": {
      "needs_background": "light"
     },
     "output_type": "display_data"
    }
   ],
   "source": [
    "a = plt.subplot()\n",
    "a.scatter(_K[1:,0], _K[1:,1], marker='x')\n",
    "a.scatter(_K[0,0], _K[0,1], marker='o')\n",
    "a.set_aspect('equal')\n",
    "plt.show()"
   ]
  },
  {
   "cell_type": "code",
   "execution_count": 7,
   "metadata": {},
   "outputs": [
    {
     "data": {
      "text/plain": [
       "(array([ 0.,  0.,  0.,  0.,  2.,  9.,  7., 11., 14., 12., 22., 14., 14.,\n",
       "         9.,  2.,  1.,  2.,  0.,  1.,  0.]),\n",
       " array([   0.,  100.,  200.,  300.,  400.,  500.,  600.,  700.,  800.,\n",
       "         900., 1000., 1100., 1200., 1300., 1400., 1500., 1600., 1700.,\n",
       "        1800., 1900., 2000.]),\n",
       " <BarContainer object of 20 artists>)"
      ]
     },
     "execution_count": 7,
     "metadata": {},
     "output_type": "execute_result"
    },
    {
     "data": {
      "image/png": "[encoded data removed]",
      "text/plain": [
       "<Figure size 432x288 with 1 Axes>"
      ]
     },
     "metadata": {
      "needs_background": "light"
     },
     "output_type": "display_data"
    }
   ],
   "source": [
    "plt.hist(w, bins=20, range=(0,2000))"
   ]
  },
  {
   "cell_type": "markdown",
   "metadata": {},
   "source": [
    "# 移動経路パターンごとの最適ルート"
   ]
  },
  {
   "cell_type": "code",
   "execution_count": 8,
   "metadata": {},
   "outputs": [],
   "source": [
    "# create schedules\n",
    "def simulate_route(z : list):\n",
    "    # z[k]=1 -> Arrived to POI k\n",
    "    if z[0] == 0:\n",
    "        return None # No route don't pass center\n",
    "    daily_route_prob = pulp.LpProblem(sense=pulp.LpMinimize)\n",
    "\n",
    "    x = {\n",
    "        (k, l):pulp.LpVariable(f'x_{k}_{l}a', cat='Binary') \n",
    "        if k!=l else pulp.LpAffineExpression() for k, l in product(K, K)\n",
    "    }\n",
    "\n",
    "    u = {\n",
    "        k: pulp.LpVariable(f'u_{k}', lowBound=1, upBound=len(K)-1)\n",
    "        for k in K_minus_o\n",
    "    }\n",
    "\n",
    "    h = pulp.LpVariable('h', lowBound=0, cat='Continuous')\n",
    "\n",
    "    for l in K:\n",
    "        daily_route_prob += (\n",
    "            pulp.lpSum([x[k,l] for k in K]) <= 1\n",
    "        )\n",
    "    for l in K:\n",
    "        if z[l] == 1:\n",
    "            daily_route_prob += (\n",
    "                pulp.lpSum([x[k,l] for k in K]) == 1\n",
    "            )\n",
    "            daily_route_prob += (\n",
    "                pulp.lpSum([x[l,k] for k in K]) == 1\n",
    "            )\n",
    "        else:\n",
    "            daily_route_prob += (\n",
    "                pulp.lpSum([x[k,l] for k in K]) == 0\n",
    "            )\n",
    "            daily_route_prob += (\n",
    "                pulp.lpSum([x[l,k] for k in K]) == 0\n",
    "            )\n",
    "\n",
    "    for k,l in product(K_minus_o, K_minus_o): # reduce cycle\n",
    "        daily_route_prob += (\n",
    "            u[k] + 1 <= u[l] + len(K_minus_o) * (1-x[k,l])\n",
    "        )\n",
    "\n",
    "    travel = pulp.lpSum([t[k,l] * x[k,l] for k, l in product(K,K)])\n",
    "    daily_route_prob += (travel - H_regular <= h)\n",
    "    daily_route_prob += (h <= H_max_overtime)\n",
    "\n",
    "    daily_route_prob += travel\n",
    "    daily_route_prob.solve()\n",
    "\n",
    "    return {\n",
    "        'z':z,\n",
    "        'route':{(k,l):x[k,l].value() for k,l in product(K,K)},\n",
    "        'optimal': daily_route_prob.status == 1,\n",
    "        'moving_time':travel.value(),\n",
    "        'overtime':h.value()\n",
    "    }\n",
    "\n",
    "def enumerate_routes():\n",
    "    routes = Parallel(n_jobs=16, prefer='threads')(\n",
    "        [delayed(simulate_route)(z) for z in product([0,1], repeat=len(K))]\n",
    "    )\n",
    "    routes = pd.DataFrame(filter(lambda x: x is not None, routes))\n",
    "\n",
    "    routes = routes[routes.optimal].copy()\n",
    "    return routes\n",
    "\n",
    "routes_df = enumerate_routes()"
   ]
  },
  {
   "cell_type": "code",
   "execution_count": 9,
   "metadata": {},
   "outputs": [
    {
     "data": {
      "text/html": [
       "<div>\n",
       "<style scoped>\n",
       "    .dataframe tbody tr th:only-of-type {\n",
       "        vertical-align: middle;\n",
       "    }\n",
       "\n",
       "    .dataframe tbody tr th {\n",
       "        vertical-align: top;\n",
       "    }\n",
       "\n",
       "    .dataframe thead th {\n",
       "        text-align: right;\n",
       "    }\n",
       "</style>\n",
       "<table border=\"1\" class=\"dataframe\">\n",
       "  <thead>\n",
       "    <tr style=\"text-align: right;\">\n",
       "      <th></th>\n",
       "      <th>z</th>\n",
       "      <th>route</th>\n",
       "      <th>optimal</th>\n",
       "      <th>moving_time</th>\n",
       "      <th>overtime</th>\n",
       "    </tr>\n",
       "  </thead>\n",
       "  <tbody>\n",
       "    <tr>\n",
       "      <th>1</th>\n",
       "      <td>(1, 0, 0, 0, 0, 0, 0, 0, 0, 1)</td>\n",
       "      <td>{(0, 0): 0, (0, 1): 0.0, (0, 2): 0.0, (0, 3): ...</td>\n",
       "      <td>True</td>\n",
       "      <td>195.0</td>\n",
       "      <td>0.0</td>\n",
       "    </tr>\n",
       "    <tr>\n",
       "      <th>2</th>\n",
       "      <td>(1, 0, 0, 0, 0, 0, 0, 0, 1, 0)</td>\n",
       "      <td>{(0, 0): 0, (0, 1): 0.0, (0, 2): 0.0, (0, 3): ...</td>\n",
       "      <td>True</td>\n",
       "      <td>125.0</td>\n",
       "      <td>0.0</td>\n",
       "    </tr>\n",
       "    <tr>\n",
       "      <th>3</th>\n",
       "      <td>(1, 0, 0, 0, 0, 0, 0, 0, 1, 1)</td>\n",
       "      <td>{(0, 0): 0, (0, 1): 0.0, (0, 2): 0.0, (0, 3): ...</td>\n",
       "      <td>True</td>\n",
       "      <td>308.0</td>\n",
       "      <td>0.0</td>\n",
       "    </tr>\n",
       "    <tr>\n",
       "      <th>4</th>\n",
       "      <td>(1, 0, 0, 0, 0, 0, 0, 1, 0, 0)</td>\n",
       "      <td>{(0, 0): 0, (0, 1): 0.0, (0, 2): 0.0, (0, 3): ...</td>\n",
       "      <td>True</td>\n",
       "      <td>59.0</td>\n",
       "      <td>0.0</td>\n",
       "    </tr>\n",
       "    <tr>\n",
       "      <th>5</th>\n",
       "      <td>(1, 0, 0, 0, 0, 0, 0, 1, 0, 1)</td>\n",
       "      <td>{(0, 0): 0, (0, 1): 0.0, (0, 2): 0.0, (0, 3): ...</td>\n",
       "      <td>True</td>\n",
       "      <td>230.0</td>\n",
       "      <td>0.0</td>\n",
       "    </tr>\n",
       "    <tr>\n",
       "      <th>...</th>\n",
       "      <td>...</td>\n",
       "      <td>...</td>\n",
       "      <td>...</td>\n",
       "      <td>...</td>\n",
       "      <td>...</td>\n",
       "    </tr>\n",
       "    <tr>\n",
       "      <th>500</th>\n",
       "      <td>(1, 1, 1, 1, 1, 1, 0, 1, 0, 0)</td>\n",
       "      <td>{(0, 0): 0, (0, 1): 1.0, (0, 2): 0.0, (0, 3): ...</td>\n",
       "      <td>True</td>\n",
       "      <td>453.0</td>\n",
       "      <td>0.0</td>\n",
       "    </tr>\n",
       "    <tr>\n",
       "      <th>501</th>\n",
       "      <td>(1, 1, 1, 1, 1, 1, 0, 1, 0, 1)</td>\n",
       "      <td>{(0, 0): 0, (0, 1): 1.0, (0, 2): 0.0, (0, 3): ...</td>\n",
       "      <td>True</td>\n",
       "      <td>629.0</td>\n",
       "      <td>149.0</td>\n",
       "    </tr>\n",
       "    <tr>\n",
       "      <th>502</th>\n",
       "      <td>(1, 1, 1, 1, 1, 1, 0, 1, 1, 0)</td>\n",
       "      <td>{(0, 0): 0, (0, 1): 1.0, (0, 2): 0.0, (0, 3): ...</td>\n",
       "      <td>True</td>\n",
       "      <td>565.0</td>\n",
       "      <td>85.0</td>\n",
       "    </tr>\n",
       "    <tr>\n",
       "      <th>504</th>\n",
       "      <td>(1, 1, 1, 1, 1, 1, 1, 0, 0, 0)</td>\n",
       "      <td>{(0, 0): 0, (0, 1): 1.0, (0, 2): 0.0, (0, 3): ...</td>\n",
       "      <td>True</td>\n",
       "      <td>551.0</td>\n",
       "      <td>71.0</td>\n",
       "    </tr>\n",
       "    <tr>\n",
       "      <th>508</th>\n",
       "      <td>(1, 1, 1, 1, 1, 1, 1, 1, 0, 0)</td>\n",
       "      <td>{(0, 0): 0, (0, 1): 1.0, (0, 2): 0.0, (0, 3): ...</td>\n",
       "      <td>True</td>\n",
       "      <td>591.0</td>\n",
       "      <td>111.0</td>\n",
       "    </tr>\n",
       "  </tbody>\n",
       "</table>\n",
       "<p>457 rows × 5 columns</p>\n",
       "</div>"
      ],
      "text/plain": [
       "                                  z  \\\n",
       "1    (1, 0, 0, 0, 0, 0, 0, 0, 0, 1)   \n",
       "2    (1, 0, 0, 0, 0, 0, 0, 0, 1, 0)   \n",
       "3    (1, 0, 0, 0, 0, 0, 0, 0, 1, 1)   \n",
       "4    (1, 0, 0, 0, 0, 0, 0, 1, 0, 0)   \n",
       "5    (1, 0, 0, 0, 0, 0, 0, 1, 0, 1)   \n",
       "..                              ...   \n",
       "500  (1, 1, 1, 1, 1, 1, 0, 1, 0, 0)   \n",
       "501  (1, 1, 1, 1, 1, 1, 0, 1, 0, 1)   \n",
       "502  (1, 1, 1, 1, 1, 1, 0, 1, 1, 0)   \n",
       "504  (1, 1, 1, 1, 1, 1, 1, 0, 0, 0)   \n",
       "508  (1, 1, 1, 1, 1, 1, 1, 1, 0, 0)   \n",
       "\n",
       "                                                 route  optimal  moving_time  \\\n",
       "1    {(0, 0): 0, (0, 1): 0.0, (0, 2): 0.0, (0, 3): ...     True        195.0   \n",
       "2    {(0, 0): 0, (0, 1): 0.0, (0, 2): 0.0, (0, 3): ...     True        125.0   \n",
       "3    {(0, 0): 0, (0, 1): 0.0, (0, 2): 0.0, (0, 3): ...     True        308.0   \n",
       "4    {(0, 0): 0, (0, 1): 0.0, (0, 2): 0.0, (0, 3): ...     True         59.0   \n",
       "5    {(0, 0): 0, (0, 1): 0.0, (0, 2): 0.0, (0, 3): ...     True        230.0   \n",
       "..                                                 ...      ...          ...   \n",
       "500  {(0, 0): 0, (0, 1): 1.0, (0, 2): 0.0, (0, 3): ...     True        453.0   \n",
       "501  {(0, 0): 0, (0, 1): 1.0, (0, 2): 0.0, (0, 3): ...     True        629.0   \n",
       "502  {(0, 0): 0, (0, 1): 1.0, (0, 2): 0.0, (0, 3): ...     True        565.0   \n",
       "504  {(0, 0): 0, (0, 1): 1.0, (0, 2): 0.0, (0, 3): ...     True        551.0   \n",
       "508  {(0, 0): 0, (0, 1): 1.0, (0, 2): 0.0, (0, 3): ...     True        591.0   \n",
       "\n",
       "     overtime  \n",
       "1         0.0  \n",
       "2         0.0  \n",
       "3         0.0  \n",
       "4         0.0  \n",
       "5         0.0  \n",
       "..        ...  \n",
       "500       0.0  \n",
       "501     149.0  \n",
       "502      85.0  \n",
       "504      71.0  \n",
       "508     111.0  \n",
       "\n",
       "[457 rows x 5 columns]"
      ]
     },
     "execution_count": 9,
     "metadata": {},
     "output_type": "execute_result"
    }
   ],
   "source": [
    "routes_df"
   ]
  },
  {
   "cell_type": "markdown",
   "metadata": {},
   "source": [
    "## 各日付の移動と配送する荷物を指定したスケジュールの列挙\n",
    "移動経路上で配送可能な荷物の部分集合のうち、重量制限を守れるものを日毎に列挙"
   ]
  },
  {
   "cell_type": "code",
   "execution_count": 10,
   "metadata": {},
   "outputs": [],
   "source": [
    "def is_OK(requests):\n",
    "    weight = sum([w[r] for r in requests])\n",
    "    if weight > W:\n",
    "        return False\n",
    "    \n",
    "    best_route_idx = None\n",
    "    best_hours = sys.float_info.max\n",
    "\n",
    "    for route_idx, row in routes_df.iterrows():\n",
    "        all_requests_on_route = all([row.z[k[r]] == 1 for r in requests])\n",
    "        if all_requests_on_route and row.moving_time < best_hours: #relax\n",
    "            best_route_idx = route_idx\n",
    "            best_hours = row.moving_time\n",
    "    \n",
    "    if best_route_idx is None:\n",
    "        return False\n",
    "    else:\n",
    "        return best_route_idx, best_hours"
   ]
  },
  {
   "cell_type": "code",
   "execution_count": 11,
   "metadata": {},
   "outputs": [],
   "source": [
    "\n",
    "def _enumerate_feasible_schedules(requests_cands, \n",
    "                                    current_idx_set, idx_to_add, res, idx):\n",
    "\n",
    "    idx_set_to_check = current_idx_set + [idx_to_add]\n",
    "    next_idx = idx_to_add + 1\n",
    "    is_next_idx_valid = next_idx < len(requests_cands)\n",
    "    requests = [requests_cands[i] for i in idx_set_to_check]\n",
    "    is_ok = is_OK(requests)\n",
    "\n",
    "    idx = idx+1\n",
    "    # print(idx, len(idx_set_to_check), next_idx, len(res))\n",
    "\n",
    "    if is_ok:\n",
    "        best_route_idx, best_hour = is_ok\n",
    "        res.append(\n",
    "            {\n",
    "                'requests': [requests_cands[i] for i in idx_set_to_check],\n",
    "                'route_idx': best_route_idx,\n",
    "                'hours': best_hour\n",
    "            }\n",
    "        )\n",
    "\n",
    "        if is_next_idx_valid:\n",
    "            _enumerate_feasible_schedules(requests_cands, \n",
    "                                            idx_set_to_check, next_idx, res, idx)\n",
    "    if is_next_idx_valid:\n",
    "        _enumerate_feasible_schedules(requests_cands, \n",
    "                                            current_idx_set, next_idx, res, idx) # skip add idx"
   ]
  },
  {
   "cell_type": "code",
   "execution_count": 12,
   "metadata": {},
   "outputs": [],
   "source": [
    "def enumerate_feasible_schedule(d: int):\n",
    "    # list up schedules on day \"d\"\n",
    "    requests_cands = [r for r in R if d_0[r] <= d <= d_1[r]]\n",
    "\n",
    "    res = [\n",
    "        {\n",
    "            'requests':[], 'route_idx':0, 'hours':0\n",
    "        }\n",
    "    ]\n",
    "\n",
    "    _enumerate_feasible_schedules(requests_cands, [], 0, res, 0)\n",
    "\n",
    "    feasible_schedule_df = pd.DataFrame(res)\n",
    "    feasible_schedule_df['overwork'] = \\\n",
    "        (feasible_schedule_df.hours - H_regular).clip(0)\n",
    "    feasible_schedule_df['requests_set'] = \\\n",
    "        feasible_schedule_df.requests.apply(set)\n",
    "\n",
    "    idx_cands = set(feasible_schedule_df.index)\n",
    "    dominated_idx_set = set()\n",
    "    for dominate_idx in feasible_schedule_df.index:\n",
    "        for checked_idx in feasible_schedule_df.index:\n",
    "            request_strict_dominance = (\n",
    "                feasible_schedule_df.requests_set.loc[checked_idx] < feasible_schedule_df.requests_set.loc[dominate_idx]\n",
    "            )\n",
    "            overwork_weak_dominance = (\n",
    "                feasible_schedule_df.overwork.loc[checked_idx] >= feasible_schedule_df.overwork.loc[dominate_idx]\n",
    "            )\n",
    "\n",
    "            if request_strict_dominance and overwork_weak_dominance:\n",
    "                dominated_idx_set.add(checked_idx)\n",
    "\n",
    "    nondominated_idx_set = idx_cands - dominated_idx_set\n",
    "    nondominated_feasible_schedules_df = feasible_schedule_df.loc[nondominated_idx_set, :]\n",
    "    return nondominated_feasible_schedules_df"
   ]
  },
  {
   "cell_type": "code",
   "execution_count": 13,
   "metadata": {},
   "outputs": [],
   "source": [
    "_schedules = Parallel(n_jobs=16, prefer='threads')([delayed(enumerate_feasible_schedule)(d) for d in D])\n",
    "feasible_schedules = dict(zip(D, _schedules))"
   ]
  },
  {
   "cell_type": "code",
   "execution_count": 14,
   "metadata": {},
   "outputs": [
    {
     "data": {
      "text/plain": [
       "('max schedule cands / day', 1383)"
      ]
     },
     "execution_count": 14,
     "metadata": {},
     "output_type": "execute_result"
    }
   ],
   "source": [
    "'max schedule cands / day', max([len(df) for df in feasible_schedules.values()])"
   ]
  },
  {
   "cell_type": "code",
   "execution_count": 15,
   "metadata": {},
   "outputs": [
    {
     "data": {
      "text/plain": [
       "('sum schedule cands', 11772)"
      ]
     },
     "execution_count": 15,
     "metadata": {},
     "output_type": "execute_result"
    }
   ],
   "source": [
    "'sum schedule cands', sum([len(df) for df in feasible_schedules.values()])"
   ]
  },
  {
   "cell_type": "markdown",
   "metadata": {},
   "source": [
    "# Solve the problem"
   ]
  },
  {
   "cell_type": "code",
   "execution_count": 17,
   "metadata": {},
   "outputs": [
    {
     "data": {
      "text/plain": [
       "1"
      ]
     },
     "execution_count": 17,
     "metadata": {},
     "output_type": "execute_result"
    }
   ],
   "source": [
    "prob = pulp.LpProblem(sense=pulp.LpMinimize)\n",
    "\n",
    "# variables\n",
    "z = {}\n",
    "for d in D:\n",
    "    for q in feasible_schedules[d].index:\n",
    "        z[d, q] = pulp.LpVariable(f'z_{d}_{q}', cat='Binary')\n",
    "\n",
    "y = {\n",
    "    r: pulp.LpVariable(f'y_{r}', cat='Continuous', lowBound=0, upBound=1) for r in R\n",
    "}\n",
    "\n",
    "deliv_count = {r: pulp.LpAffineExpression() for r in R}\n",
    "for d in D:\n",
    "    for q in feasible_schedules[d].index:\n",
    "        for r in feasible_schedules[d].loc[q].requests:\n",
    "            deliv_count[r] += z[d, q]\n",
    "\n",
    "h = {\n",
    "    d: pulp.lpSum(\n",
    "        z[d, q] * feasible_schedules[d].overwork.loc[q]\n",
    "        for q in feasible_schedules[d].index\n",
    "    )\n",
    "    for d in D\n",
    "}\n",
    "\n",
    "# Constrains\n",
    "for d in D:\n",
    "    prob += (\n",
    "        pulp.lpSum(z[d, q] for q in feasible_schedules[d].index) == 1\n",
    "        # one schedule in one day\n",
    "    )\n",
    "for r in R:\n",
    "    prob += (\n",
    "        y[r] >= 1 - deliv_count[r]\n",
    "        # outsourcing delivery\n",
    "    )\n",
    "\n",
    "# Objectives\n",
    "obj_overtime = pulp.lpSum([c * h[d] for d in D])\n",
    "obj_outsorcing = pulp.lpSum([f[r] * y[r] for r in R])\n",
    "\n",
    "obj_total = obj_overtime + obj_outsorcing\n",
    "prob += obj_total\n",
    "\n",
    "prob.solve()"
   ]
  },
  {
   "cell_type": "markdown",
   "metadata": {},
   "source": [
    "# Result"
   ]
  },
  {
   "cell_type": "code",
   "execution_count": 20,
   "metadata": {},
   "outputs": [
    {
     "data": {
      "image/png": "[encoded data removed]",
      "text/plain": [
       "<Figure size 432x288 with 1 Axes>"
      ]
     },
     "metadata": {
      "needs_background": "light"
     },
     "output_type": "display_data"
    }
   ],
   "source": [
    "# visualize by day\n",
    "def visualize_route(d):\n",
    "    for q in feasible_schedules[d].index:\n",
    "        if z[d, q].value() > 0.5:\n",
    "            route_summary = feasible_schedules[d].loc[q]\n",
    "            route_geography = routes_df.loc[route_summary.route_idx]\n",
    "            break\n",
    "    \n",
    "    a = plt.subplot()\n",
    "    a.scatter(_K[1:,0], _K[1:,1], marker='x')\n",
    "    a.scatter(_K[0,0], _K[0, 1], marker='o')\n",
    "\n",
    "    motions = [(k_from, k_to) for (k_from, k_to), used \n",
    "                in route_geography.route.items() if used > 0]\n",
    "\n",
    "    for k_from, k_to in motions:\n",
    "        p_from = _K[int(k_from)]\n",
    "        p_to = _K[int(k_to)]\n",
    "        a.arrow(\n",
    "            *p_from, *(p_to-p_from),\n",
    "            head_width=3,\n",
    "            length_includes_head=True,\n",
    "            overhang=0.5,\n",
    "            color='gray',\n",
    "            alpha=0.5\n",
    "        )\n",
    "        requests_at_k_to = [r for r in route_summary.requests if k[r]==k_to]\n",
    "        a.text(*p_to, ''.join([str(r) for r in requests_at_k_to]))\n",
    "    plt.title(f'Schedule for day: {d}')\n",
    "    plt.show()\n",
    "\n",
    "visualize_route(0)"
   ]
  },
  {
   "cell_type": "code",
   "execution_count": 21,
   "metadata": {},
   "outputs": [],
   "source": [
    "requests_summary_df = pd.DataFrame(\n",
    "    [{\n",
    "        'outsourced': y[r].value(),\n",
    "        'weight': w[r],\n",
    "        'freight': f[r],\n",
    "        'location': k[r],\n",
    "        'distance_from_o': t[k[r], o]\n",
    "    } for r in R]\n",
    ")"
   ]
  },
  {
   "cell_type": "code",
   "execution_count": 22,
   "metadata": {},
   "outputs": [
    {
     "data": {
      "text/html": [
       "<div>\n",
       "<style scoped>\n",
       "    .dataframe tbody tr th:only-of-type {\n",
       "        vertical-align: middle;\n",
       "    }\n",
       "\n",
       "    .dataframe tbody tr th {\n",
       "        vertical-align: top;\n",
       "    }\n",
       "\n",
       "    .dataframe thead th {\n",
       "        text-align: right;\n",
       "    }\n",
       "</style>\n",
       "<table border=\"1\" class=\"dataframe\">\n",
       "  <thead>\n",
       "    <tr style=\"text-align: right;\">\n",
       "      <th></th>\n",
       "      <th>weight</th>\n",
       "      <th>freight</th>\n",
       "      <th>distance_from_o</th>\n",
       "    </tr>\n",
       "    <tr>\n",
       "      <th>outsourced</th>\n",
       "      <th></th>\n",
       "      <th></th>\n",
       "      <th></th>\n",
       "    </tr>\n",
       "  </thead>\n",
       "  <tbody>\n",
       "    <tr>\n",
       "      <th>0.0</th>\n",
       "      <td>994.920354</td>\n",
       "      <td>47872.566372</td>\n",
       "      <td>6.265487</td>\n",
       "    </tr>\n",
       "    <tr>\n",
       "      <th>1.0</th>\n",
       "      <td>1219.857143</td>\n",
       "      <td>57171.428571</td>\n",
       "      <td>6.285714</td>\n",
       "    </tr>\n",
       "  </tbody>\n",
       "</table>\n",
       "</div>"
      ],
      "text/plain": [
       "                 weight       freight  distance_from_o\n",
       "outsourced                                            \n",
       "0.0          994.920354  47872.566372         6.265487\n",
       "1.0         1219.857143  57171.428571         6.285714"
      ]
     },
     "execution_count": 22,
     "metadata": {},
     "output_type": "execute_result"
    }
   ],
   "source": [
    "requests_summary_df.groupby('outsourced')[['weight', 'freight', 'distance_from_o']].agg('mean')"
   ]
  },
  {
   "cell_type": "code",
   "execution_count": 23,
   "metadata": {},
   "outputs": [
    {
     "data": {
      "image/png": "[encoded data removed]",
      "text/plain": [
       "<Figure size 432x288 with 2 Axes>"
      ]
     },
     "metadata": {
      "needs_background": "light"
     },
     "output_type": "display_data"
    }
   ],
   "source": [
    "requests_summary_df.plot.scatter(x='distance_from_o', y='freight', c='outsourced', cmap='cool')\n",
    "plt.show()"
   ]
  },
  {
   "cell_type": "code",
   "execution_count": null,
   "metadata": {},
   "outputs": [],
   "source": []
  }
 ],
 "metadata": {
  "interpreter": {
   "hash": "949777d72b0d2535278d3dc13498b2535136f6dfe0678499012e853ee9abcab1"
  },
  "kernelspec": {
   "display_name": "Python 3.9.1 64-bit",
   "language": "python",
   "name": "python3"
  },
  "language_info": {
   "codemirror_mode": {
    "name": "ipython",
    "version": 3
   },
   "file_extension": ".py",
   "mimetype": "text/x-python",
   "name": "python",
   "nbconvert_exporter": "python",
   "pygments_lexer": "ipython3",
   "version": "3.9.1"
  },
  "orig_nbformat": 4
 },
 "nbformat": 4,
 "nbformat_minor": 2
}
