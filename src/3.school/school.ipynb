{
 "cells": [
  {
   "cell_type": "markdown",
   "metadata": {},
   "source": [
    "# 条件\n",
    "1. 学年の全生徒をそれぞれ１つのクラスに割り当てる\n",
    "1. 各クラスの生徒の人数は39人以上、40人以下\n",
    "1. 各クラスの男子生徒、女子生徒の人数は20人以下\n",
    "1. 各クラスの学力試験の平均点は学年平均±10点とする\n",
    "1. 各クラスにリーダー気質の生徒を2人以上割り当てる\n",
    "1. 特別な支援が必要な生徒は各クラスに1人以下とする\n",
    "1. 特定ペアの生徒は同一クラスに割り当てない"
   ]
  },
  {
   "cell_type": "code",
   "execution_count": 90,
   "metadata": {},
   "outputs": [
    {
     "name": "stdout",
     "output_type": "stream",
     "text": [
      "school.ipynb  student_pairs.csv  students.csv\n"
     ]
    }
   ],
   "source": [
    "!ls"
   ]
  },
  {
   "cell_type": "code",
   "execution_count": 91,
   "metadata": {},
   "outputs": [],
   "source": [
    "import pandas as pd\n",
    "import pulp"
   ]
  },
  {
   "cell_type": "code",
   "execution_count": 92,
   "metadata": {},
   "outputs": [
    {
     "data": {
      "text/html": [
       "<div>\n",
       "<style scoped>\n",
       "    .dataframe tbody tr th:only-of-type {\n",
       "        vertical-align: middle;\n",
       "    }\n",
       "\n",
       "    .dataframe tbody tr th {\n",
       "        vertical-align: top;\n",
       "    }\n",
       "\n",
       "    .dataframe thead th {\n",
       "        text-align: right;\n",
       "    }\n",
       "</style>\n",
       "<table border=\"1\" class=\"dataframe\">\n",
       "  <thead>\n",
       "    <tr style=\"text-align: right;\">\n",
       "      <th></th>\n",
       "      <th>student_id</th>\n",
       "      <th>gender</th>\n",
       "      <th>leader_flag</th>\n",
       "      <th>support_flag</th>\n",
       "      <th>score</th>\n",
       "    </tr>\n",
       "  </thead>\n",
       "  <tbody>\n",
       "    <tr>\n",
       "      <th>0</th>\n",
       "      <td>1</td>\n",
       "      <td>0</td>\n",
       "      <td>0</td>\n",
       "      <td>0</td>\n",
       "      <td>335</td>\n",
       "    </tr>\n",
       "    <tr>\n",
       "      <th>1</th>\n",
       "      <td>2</td>\n",
       "      <td>1</td>\n",
       "      <td>0</td>\n",
       "      <td>0</td>\n",
       "      <td>379</td>\n",
       "    </tr>\n",
       "    <tr>\n",
       "      <th>2</th>\n",
       "      <td>3</td>\n",
       "      <td>0</td>\n",
       "      <td>0</td>\n",
       "      <td>0</td>\n",
       "      <td>350</td>\n",
       "    </tr>\n",
       "    <tr>\n",
       "      <th>3</th>\n",
       "      <td>4</td>\n",
       "      <td>0</td>\n",
       "      <td>0</td>\n",
       "      <td>0</td>\n",
       "      <td>301</td>\n",
       "    </tr>\n",
       "    <tr>\n",
       "      <th>4</th>\n",
       "      <td>5</td>\n",
       "      <td>1</td>\n",
       "      <td>0</td>\n",
       "      <td>0</td>\n",
       "      <td>317</td>\n",
       "    </tr>\n",
       "    <tr>\n",
       "      <th>...</th>\n",
       "      <td>...</td>\n",
       "      <td>...</td>\n",
       "      <td>...</td>\n",
       "      <td>...</td>\n",
       "      <td>...</td>\n",
       "    </tr>\n",
       "    <tr>\n",
       "      <th>313</th>\n",
       "      <td>314</td>\n",
       "      <td>0</td>\n",
       "      <td>0</td>\n",
       "      <td>0</td>\n",
       "      <td>244</td>\n",
       "    </tr>\n",
       "    <tr>\n",
       "      <th>314</th>\n",
       "      <td>315</td>\n",
       "      <td>1</td>\n",
       "      <td>0</td>\n",
       "      <td>0</td>\n",
       "      <td>309</td>\n",
       "    </tr>\n",
       "    <tr>\n",
       "      <th>315</th>\n",
       "      <td>316</td>\n",
       "      <td>0</td>\n",
       "      <td>0</td>\n",
       "      <td>0</td>\n",
       "      <td>239</td>\n",
       "    </tr>\n",
       "    <tr>\n",
       "      <th>316</th>\n",
       "      <td>317</td>\n",
       "      <td>1</td>\n",
       "      <td>0</td>\n",
       "      <td>0</td>\n",
       "      <td>356</td>\n",
       "    </tr>\n",
       "    <tr>\n",
       "      <th>317</th>\n",
       "      <td>318</td>\n",
       "      <td>0</td>\n",
       "      <td>0</td>\n",
       "      <td>0</td>\n",
       "      <td>256</td>\n",
       "    </tr>\n",
       "  </tbody>\n",
       "</table>\n",
       "<p>318 rows × 5 columns</p>\n",
       "</div>"
      ],
      "text/plain": [
       "     student_id  gender  leader_flag  support_flag  score\n",
       "0             1       0            0             0    335\n",
       "1             2       1            0             0    379\n",
       "2             3       0            0             0    350\n",
       "3             4       0            0             0    301\n",
       "4             5       1            0             0    317\n",
       "..          ...     ...          ...           ...    ...\n",
       "313         314       0            0             0    244\n",
       "314         315       1            0             0    309\n",
       "315         316       0            0             0    239\n",
       "316         317       1            0             0    356\n",
       "317         318       0            0             0    256\n",
       "\n",
       "[318 rows x 5 columns]"
      ]
     },
     "execution_count": 92,
     "metadata": {},
     "output_type": "execute_result"
    }
   ],
   "source": [
    "df_st = pd.read_csv('students.csv')\n",
    "df_st"
   ]
  },
  {
   "cell_type": "code",
   "execution_count": 93,
   "metadata": {},
   "outputs": [
    {
     "data": {
      "text/html": [
       "<div>\n",
       "<style scoped>\n",
       "    .dataframe tbody tr th:only-of-type {\n",
       "        vertical-align: middle;\n",
       "    }\n",
       "\n",
       "    .dataframe tbody tr th {\n",
       "        vertical-align: top;\n",
       "    }\n",
       "\n",
       "    .dataframe thead th {\n",
       "        text-align: right;\n",
       "    }\n",
       "</style>\n",
       "<table border=\"1\" class=\"dataframe\">\n",
       "  <thead>\n",
       "    <tr style=\"text-align: right;\">\n",
       "      <th></th>\n",
       "      <th>student_id</th>\n",
       "      <th>gender</th>\n",
       "      <th>leader_flag</th>\n",
       "      <th>support_flag</th>\n",
       "      <th>score</th>\n",
       "    </tr>\n",
       "  </thead>\n",
       "  <tbody>\n",
       "    <tr>\n",
       "      <th>count</th>\n",
       "      <td>318.000000</td>\n",
       "      <td>318.000000</td>\n",
       "      <td>318.000000</td>\n",
       "      <td>318.000000</td>\n",
       "      <td>318.000000</td>\n",
       "    </tr>\n",
       "    <tr>\n",
       "      <th>mean</th>\n",
       "      <td>159.500000</td>\n",
       "      <td>0.496855</td>\n",
       "      <td>0.053459</td>\n",
       "      <td>0.012579</td>\n",
       "      <td>303.644654</td>\n",
       "    </tr>\n",
       "    <tr>\n",
       "      <th>std</th>\n",
       "      <td>91.942917</td>\n",
       "      <td>0.500778</td>\n",
       "      <td>0.225302</td>\n",
       "      <td>0.111622</td>\n",
       "      <td>65.179995</td>\n",
       "    </tr>\n",
       "    <tr>\n",
       "      <th>min</th>\n",
       "      <td>1.000000</td>\n",
       "      <td>0.000000</td>\n",
       "      <td>0.000000</td>\n",
       "      <td>0.000000</td>\n",
       "      <td>88.000000</td>\n",
       "    </tr>\n",
       "    <tr>\n",
       "      <th>25%</th>\n",
       "      <td>80.250000</td>\n",
       "      <td>0.000000</td>\n",
       "      <td>0.000000</td>\n",
       "      <td>0.000000</td>\n",
       "      <td>261.000000</td>\n",
       "    </tr>\n",
       "    <tr>\n",
       "      <th>50%</th>\n",
       "      <td>159.500000</td>\n",
       "      <td>0.000000</td>\n",
       "      <td>0.000000</td>\n",
       "      <td>0.000000</td>\n",
       "      <td>310.000000</td>\n",
       "    </tr>\n",
       "    <tr>\n",
       "      <th>75%</th>\n",
       "      <td>238.750000</td>\n",
       "      <td>1.000000</td>\n",
       "      <td>0.000000</td>\n",
       "      <td>0.000000</td>\n",
       "      <td>350.000000</td>\n",
       "    </tr>\n",
       "    <tr>\n",
       "      <th>max</th>\n",
       "      <td>318.000000</td>\n",
       "      <td>1.000000</td>\n",
       "      <td>1.000000</td>\n",
       "      <td>1.000000</td>\n",
       "      <td>485.000000</td>\n",
       "    </tr>\n",
       "  </tbody>\n",
       "</table>\n",
       "</div>"
      ],
      "text/plain": [
       "       student_id      gender  leader_flag  support_flag       score\n",
       "count  318.000000  318.000000   318.000000    318.000000  318.000000\n",
       "mean   159.500000    0.496855     0.053459      0.012579  303.644654\n",
       "std     91.942917    0.500778     0.225302      0.111622   65.179995\n",
       "min      1.000000    0.000000     0.000000      0.000000   88.000000\n",
       "25%     80.250000    0.000000     0.000000      0.000000  261.000000\n",
       "50%    159.500000    0.000000     0.000000      0.000000  310.000000\n",
       "75%    238.750000    1.000000     0.000000      0.000000  350.000000\n",
       "max    318.000000    1.000000     1.000000      1.000000  485.000000"
      ]
     },
     "execution_count": 93,
     "metadata": {},
     "output_type": "execute_result"
    }
   ],
   "source": [
    "df_st.describe()"
   ]
  },
  {
   "cell_type": "code",
   "execution_count": 94,
   "metadata": {},
   "outputs": [
    {
     "data": {
      "text/html": [
       "<div>\n",
       "<style scoped>\n",
       "    .dataframe tbody tr th:only-of-type {\n",
       "        vertical-align: middle;\n",
       "    }\n",
       "\n",
       "    .dataframe tbody tr th {\n",
       "        vertical-align: top;\n",
       "    }\n",
       "\n",
       "    .dataframe thead th {\n",
       "        text-align: right;\n",
       "    }\n",
       "</style>\n",
       "<table border=\"1\" class=\"dataframe\">\n",
       "  <thead>\n",
       "    <tr style=\"text-align: right;\">\n",
       "      <th></th>\n",
       "      <th>student_id1</th>\n",
       "      <th>student_id2</th>\n",
       "    </tr>\n",
       "  </thead>\n",
       "  <tbody>\n",
       "    <tr>\n",
       "      <th>0</th>\n",
       "      <td>118</td>\n",
       "      <td>189</td>\n",
       "    </tr>\n",
       "    <tr>\n",
       "      <th>1</th>\n",
       "      <td>72</td>\n",
       "      <td>50</td>\n",
       "    </tr>\n",
       "    <tr>\n",
       "      <th>2</th>\n",
       "      <td>314</td>\n",
       "      <td>233</td>\n",
       "    </tr>\n",
       "  </tbody>\n",
       "</table>\n",
       "</div>"
      ],
      "text/plain": [
       "   student_id1  student_id2\n",
       "0          118          189\n",
       "1           72           50\n",
       "2          314          233"
      ]
     },
     "execution_count": 94,
     "metadata": {},
     "output_type": "execute_result"
    }
   ],
   "source": [
    "df_pr = pd.read_csv('student_pairs.csv')\n",
    "df_pr"
   ]
  },
  {
   "cell_type": "code",
   "execution_count": 95,
   "metadata": {},
   "outputs": [
    {
     "data": {
      "text/plain": [
       "True"
      ]
     },
     "execution_count": 95,
     "metadata": {},
     "output_type": "execute_result"
    }
   ],
   "source": [
    "set(range(1, 319)) == set(df_st.student_id)"
   ]
  },
  {
   "cell_type": "code",
   "execution_count": 96,
   "metadata": {},
   "outputs": [
    {
     "data": {
      "text/plain": [
       "0    160\n",
       "1    158\n",
       "Name: gender, dtype: int64"
      ]
     },
     "execution_count": 96,
     "metadata": {},
     "output_type": "execute_result"
    }
   ],
   "source": [
    "df_st.gender.value_counts()"
   ]
  },
  {
   "cell_type": "code",
   "execution_count": 97,
   "metadata": {},
   "outputs": [
    {
     "data": {
      "text/plain": [
       "0    301\n",
       "1     17\n",
       "Name: leader_flag, dtype: int64"
      ]
     },
     "execution_count": 97,
     "metadata": {},
     "output_type": "execute_result"
    }
   ],
   "source": [
    "df_st.leader_flag.value_counts()"
   ]
  },
  {
   "cell_type": "code",
   "execution_count": 98,
   "metadata": {},
   "outputs": [
    {
     "data": {
      "text/plain": [
       "0    314\n",
       "1      4\n",
       "Name: support_flag, dtype: int64"
      ]
     },
     "execution_count": 98,
     "metadata": {},
     "output_type": "execute_result"
    }
   ],
   "source": [
    "df_st.support_flag.value_counts()"
   ]
  },
  {
   "cell_type": "code",
   "execution_count": 99,
   "metadata": {},
   "outputs": [
    {
     "data": {
      "text/plain": [
       "<AxesSubplot:>"
      ]
     },
     "execution_count": 99,
     "metadata": {},
     "output_type": "execute_result"
    },
    {
     "data": {
      "image/png": "[encoded data removed]",
      "text/plain": [
       "<Figure size 432x288 with 1 Axes>"
      ]
     },
     "metadata": {
      "needs_background": "light"
     },
     "output_type": "display_data"
    }
   ],
   "source": [
    "df_st.score.hist()"
   ]
  },
  {
   "cell_type": "code",
   "execution_count": 100,
   "metadata": {},
   "outputs": [
    {
     "data": {
      "text/html": [
       "<div>\n",
       "<style scoped>\n",
       "    .dataframe tbody tr th:only-of-type {\n",
       "        vertical-align: middle;\n",
       "    }\n",
       "\n",
       "    .dataframe tbody tr th {\n",
       "        vertical-align: top;\n",
       "    }\n",
       "\n",
       "    .dataframe thead th {\n",
       "        text-align: right;\n",
       "    }\n",
       "</style>\n",
       "<table border=\"1\" class=\"dataframe\">\n",
       "  <thead>\n",
       "    <tr style=\"text-align: right;\">\n",
       "      <th></th>\n",
       "      <th>student_id</th>\n",
       "      <th>gender</th>\n",
       "      <th>leader_flag</th>\n",
       "      <th>support_flag</th>\n",
       "      <th>score</th>\n",
       "    </tr>\n",
       "  </thead>\n",
       "  <tbody>\n",
       "    <tr>\n",
       "      <th>1</th>\n",
       "      <td>1</td>\n",
       "      <td>0</td>\n",
       "      <td>0</td>\n",
       "      <td>0</td>\n",
       "      <td>335</td>\n",
       "    </tr>\n",
       "    <tr>\n",
       "      <th>2</th>\n",
       "      <td>2</td>\n",
       "      <td>1</td>\n",
       "      <td>0</td>\n",
       "      <td>0</td>\n",
       "      <td>379</td>\n",
       "    </tr>\n",
       "    <tr>\n",
       "      <th>3</th>\n",
       "      <td>3</td>\n",
       "      <td>0</td>\n",
       "      <td>0</td>\n",
       "      <td>0</td>\n",
       "      <td>350</td>\n",
       "    </tr>\n",
       "    <tr>\n",
       "      <th>4</th>\n",
       "      <td>4</td>\n",
       "      <td>0</td>\n",
       "      <td>0</td>\n",
       "      <td>0</td>\n",
       "      <td>301</td>\n",
       "    </tr>\n",
       "    <tr>\n",
       "      <th>5</th>\n",
       "      <td>5</td>\n",
       "      <td>1</td>\n",
       "      <td>0</td>\n",
       "      <td>0</td>\n",
       "      <td>317</td>\n",
       "    </tr>\n",
       "    <tr>\n",
       "      <th>...</th>\n",
       "      <td>...</td>\n",
       "      <td>...</td>\n",
       "      <td>...</td>\n",
       "      <td>...</td>\n",
       "      <td>...</td>\n",
       "    </tr>\n",
       "    <tr>\n",
       "      <th>314</th>\n",
       "      <td>314</td>\n",
       "      <td>0</td>\n",
       "      <td>0</td>\n",
       "      <td>0</td>\n",
       "      <td>244</td>\n",
       "    </tr>\n",
       "    <tr>\n",
       "      <th>315</th>\n",
       "      <td>315</td>\n",
       "      <td>1</td>\n",
       "      <td>0</td>\n",
       "      <td>0</td>\n",
       "      <td>309</td>\n",
       "    </tr>\n",
       "    <tr>\n",
       "      <th>316</th>\n",
       "      <td>316</td>\n",
       "      <td>0</td>\n",
       "      <td>0</td>\n",
       "      <td>0</td>\n",
       "      <td>239</td>\n",
       "    </tr>\n",
       "    <tr>\n",
       "      <th>317</th>\n",
       "      <td>317</td>\n",
       "      <td>1</td>\n",
       "      <td>0</td>\n",
       "      <td>0</td>\n",
       "      <td>356</td>\n",
       "    </tr>\n",
       "    <tr>\n",
       "      <th>318</th>\n",
       "      <td>318</td>\n",
       "      <td>0</td>\n",
       "      <td>0</td>\n",
       "      <td>0</td>\n",
       "      <td>256</td>\n",
       "    </tr>\n",
       "  </tbody>\n",
       "</table>\n",
       "<p>318 rows × 5 columns</p>\n",
       "</div>"
      ],
      "text/plain": [
       "     student_id  gender  leader_flag  support_flag  score\n",
       "1             1       0            0             0    335\n",
       "2             2       1            0             0    379\n",
       "3             3       0            0             0    350\n",
       "4             4       0            0             0    301\n",
       "5             5       1            0             0    317\n",
       "..          ...     ...          ...           ...    ...\n",
       "314         314       0            0             0    244\n",
       "315         315       1            0             0    309\n",
       "316         316       0            0             0    239\n",
       "317         317       1            0             0    356\n",
       "318         318       0            0             0    256\n",
       "\n",
       "[318 rows x 5 columns]"
      ]
     },
     "execution_count": 100,
     "metadata": {},
     "output_type": "execute_result"
    }
   ],
   "source": [
    "df_st.index = df_st.student_id.tolist()\n",
    "df_st"
   ]
  },
  {
   "cell_type": "code",
   "execution_count": 101,
   "metadata": {},
   "outputs": [
    {
     "data": {
      "text/plain": [
       "8"
      ]
     },
     "execution_count": 101,
     "metadata": {},
     "output_type": "execute_result"
    }
   ],
   "source": [
    "len(df_st.student_id) // 40 + 1"
   ]
  },
  {
   "cell_type": "code",
   "execution_count": 102,
   "metadata": {},
   "outputs": [],
   "source": [
    "max_class = 40\n",
    "min_class = 39\n",
    "num_of_class = len(df_st.student_id) // 40 + 1\n",
    "mean_score = df_st.score.mean()\n"
   ]
  },
  {
   "cell_type": "code",
   "execution_count": 103,
   "metadata": {},
   "outputs": [],
   "source": [
    "st_list = df_st.student_id.tolist()"
   ]
  },
  {
   "cell_type": "code",
   "execution_count": 104,
   "metadata": {},
   "outputs": [
    {
     "data": {
      "text/html": [
       "<div>\n",
       "<style scoped>\n",
       "    .dataframe tbody tr th:only-of-type {\n",
       "        vertical-align: middle;\n",
       "    }\n",
       "\n",
       "    .dataframe tbody tr th {\n",
       "        vertical-align: top;\n",
       "    }\n",
       "\n",
       "    .dataframe thead th {\n",
       "        text-align: right;\n",
       "    }\n",
       "</style>\n",
       "<table border=\"1\" class=\"dataframe\">\n",
       "  <thead>\n",
       "    <tr style=\"text-align: right;\">\n",
       "      <th></th>\n",
       "      <th>0</th>\n",
       "      <th>1</th>\n",
       "      <th>2</th>\n",
       "      <th>3</th>\n",
       "      <th>4</th>\n",
       "      <th>5</th>\n",
       "      <th>6</th>\n",
       "      <th>7</th>\n",
       "    </tr>\n",
       "  </thead>\n",
       "  <tbody>\n",
       "    <tr>\n",
       "      <th>1</th>\n",
       "      <td>x_1_0</td>\n",
       "      <td>x_1_1</td>\n",
       "      <td>x_1_2</td>\n",
       "      <td>x_1_3</td>\n",
       "      <td>x_1_4</td>\n",
       "      <td>x_1_5</td>\n",
       "      <td>x_1_6</td>\n",
       "      <td>x_1_7</td>\n",
       "    </tr>\n",
       "    <tr>\n",
       "      <th>2</th>\n",
       "      <td>x_2_0</td>\n",
       "      <td>x_2_1</td>\n",
       "      <td>x_2_2</td>\n",
       "      <td>x_2_3</td>\n",
       "      <td>x_2_4</td>\n",
       "      <td>x_2_5</td>\n",
       "      <td>x_2_6</td>\n",
       "      <td>x_2_7</td>\n",
       "    </tr>\n",
       "    <tr>\n",
       "      <th>3</th>\n",
       "      <td>x_3_0</td>\n",
       "      <td>x_3_1</td>\n",
       "      <td>x_3_2</td>\n",
       "      <td>x_3_3</td>\n",
       "      <td>x_3_4</td>\n",
       "      <td>x_3_5</td>\n",
       "      <td>x_3_6</td>\n",
       "      <td>x_3_7</td>\n",
       "    </tr>\n",
       "    <tr>\n",
       "      <th>4</th>\n",
       "      <td>x_4_0</td>\n",
       "      <td>x_4_1</td>\n",
       "      <td>x_4_2</td>\n",
       "      <td>x_4_3</td>\n",
       "      <td>x_4_4</td>\n",
       "      <td>x_4_5</td>\n",
       "      <td>x_4_6</td>\n",
       "      <td>x_4_7</td>\n",
       "    </tr>\n",
       "    <tr>\n",
       "      <th>5</th>\n",
       "      <td>x_5_0</td>\n",
       "      <td>x_5_1</td>\n",
       "      <td>x_5_2</td>\n",
       "      <td>x_5_3</td>\n",
       "      <td>x_5_4</td>\n",
       "      <td>x_5_5</td>\n",
       "      <td>x_5_6</td>\n",
       "      <td>x_5_7</td>\n",
       "    </tr>\n",
       "    <tr>\n",
       "      <th>...</th>\n",
       "      <td>...</td>\n",
       "      <td>...</td>\n",
       "      <td>...</td>\n",
       "      <td>...</td>\n",
       "      <td>...</td>\n",
       "      <td>...</td>\n",
       "      <td>...</td>\n",
       "      <td>...</td>\n",
       "    </tr>\n",
       "    <tr>\n",
       "      <th>314</th>\n",
       "      <td>x_314_0</td>\n",
       "      <td>x_314_1</td>\n",
       "      <td>x_314_2</td>\n",
       "      <td>x_314_3</td>\n",
       "      <td>x_314_4</td>\n",
       "      <td>x_314_5</td>\n",
       "      <td>x_314_6</td>\n",
       "      <td>x_314_7</td>\n",
       "    </tr>\n",
       "    <tr>\n",
       "      <th>315</th>\n",
       "      <td>x_315_0</td>\n",
       "      <td>x_315_1</td>\n",
       "      <td>x_315_2</td>\n",
       "      <td>x_315_3</td>\n",
       "      <td>x_315_4</td>\n",
       "      <td>x_315_5</td>\n",
       "      <td>x_315_6</td>\n",
       "      <td>x_315_7</td>\n",
       "    </tr>\n",
       "    <tr>\n",
       "      <th>316</th>\n",
       "      <td>x_316_0</td>\n",
       "      <td>x_316_1</td>\n",
       "      <td>x_316_2</td>\n",
       "      <td>x_316_3</td>\n",
       "      <td>x_316_4</td>\n",
       "      <td>x_316_5</td>\n",
       "      <td>x_316_6</td>\n",
       "      <td>x_316_7</td>\n",
       "    </tr>\n",
       "    <tr>\n",
       "      <th>317</th>\n",
       "      <td>x_317_0</td>\n",
       "      <td>x_317_1</td>\n",
       "      <td>x_317_2</td>\n",
       "      <td>x_317_3</td>\n",
       "      <td>x_317_4</td>\n",
       "      <td>x_317_5</td>\n",
       "      <td>x_317_6</td>\n",
       "      <td>x_317_7</td>\n",
       "    </tr>\n",
       "    <tr>\n",
       "      <th>318</th>\n",
       "      <td>x_318_0</td>\n",
       "      <td>x_318_1</td>\n",
       "      <td>x_318_2</td>\n",
       "      <td>x_318_3</td>\n",
       "      <td>x_318_4</td>\n",
       "      <td>x_318_5</td>\n",
       "      <td>x_318_6</td>\n",
       "      <td>x_318_7</td>\n",
       "    </tr>\n",
       "  </tbody>\n",
       "</table>\n",
       "<p>318 rows × 8 columns</p>\n",
       "</div>"
      ],
      "text/plain": [
       "           0        1        2        3        4        5        6        7\n",
       "1      x_1_0    x_1_1    x_1_2    x_1_3    x_1_4    x_1_5    x_1_6    x_1_7\n",
       "2      x_2_0    x_2_1    x_2_2    x_2_3    x_2_4    x_2_5    x_2_6    x_2_7\n",
       "3      x_3_0    x_3_1    x_3_2    x_3_3    x_3_4    x_3_5    x_3_6    x_3_7\n",
       "4      x_4_0    x_4_1    x_4_2    x_4_3    x_4_4    x_4_5    x_4_6    x_4_7\n",
       "5      x_5_0    x_5_1    x_5_2    x_5_3    x_5_4    x_5_5    x_5_6    x_5_7\n",
       "..       ...      ...      ...      ...      ...      ...      ...      ...\n",
       "314  x_314_0  x_314_1  x_314_2  x_314_3  x_314_4  x_314_5  x_314_6  x_314_7\n",
       "315  x_315_0  x_315_1  x_315_2  x_315_3  x_315_4  x_315_5  x_315_6  x_315_7\n",
       "316  x_316_0  x_316_1  x_316_2  x_316_3  x_316_4  x_316_5  x_316_6  x_316_7\n",
       "317  x_317_0  x_317_1  x_317_2  x_317_3  x_317_4  x_317_5  x_317_6  x_317_7\n",
       "318  x_318_0  x_318_1  x_318_2  x_318_3  x_318_4  x_318_5  x_318_6  x_318_7\n",
       "\n",
       "[318 rows x 8 columns]"
      ]
     },
     "execution_count": 104,
     "metadata": {},
     "output_type": "execute_result"
    }
   ],
   "source": [
    "df_x = pd.DataFrame([[f'x_{i}_{c}' for c in range(num_of_class)] for i in st_list], index = st_list)\n",
    "df_x"
   ]
  },
  {
   "cell_type": "code",
   "execution_count": 105,
   "metadata": {},
   "outputs": [],
   "source": [
    "problem = pulp.LpProblem('school-class', pulp.LpMaximize)\n",
    "x = pd.DataFrame([[pulp.LpVariable(f'x_{i}_{c}',cat='Binary') for c in range(num_of_class)] for i in st_list], index=st_list)\n",
    "\n",
    "for i in x.index:\n",
    "    problem += pulp.lpSum(x.loc[i,:]) == 1 # condition 1\n",
    "\n",
    "for j in x.columns:\n",
    "    problem += pulp.lpSum(x[j]) >= 39 # condition 2\n",
    "    problem += pulp.lpSum(x[j]) <= 40 # condition 2\n",
    "\n",
    "    problem += pulp.lpDot(x[j], df_st.gender) <= 20 # condition 3\n",
    "    problem += pulp.lpDot(x[j], (1 - df_st.gender)) <= 20 # condition 3\n",
    "\n",
    "    problem += pulp.lpDot(x[j], df_st.score) >= (mean_score - 10)* pulp.lpSum(x[j])# condition 4 -> convert to linier\n",
    "    problem += pulp.lpDot(x[j], df_st.score) <= (mean_score + 10)* pulp.lpSum(x[j])# condition 4\n",
    "\n",
    "    problem += pulp.lpDot(x[j], df_st.leader_flag) >= 2 # condition 5\n",
    "\n",
    "    problem += pulp.lpDot(x[j], df_st.support_flag) <= 1 # condition 6\n",
    "\n",
    "    for _, r in df_pr.iterrows():\n",
    "        problem += x.loc[r.student_id1, j] + x.loc[r.student_id2, j] <= 1\n",
    "\n",
    "status = problem.solve()\n",
    "\n",
    "\n"
   ]
  },
  {
   "cell_type": "code",
   "execution_count": 106,
   "metadata": {},
   "outputs": [
    {
     "data": {
      "text/plain": [
       "'Optimal'"
      ]
     },
     "execution_count": 106,
     "metadata": {},
     "output_type": "execute_result"
    }
   ],
   "source": [
    "pulp.LpStatus[status]"
   ]
  },
  {
   "cell_type": "code",
   "execution_count": 107,
   "metadata": {},
   "outputs": [],
   "source": [
    "df_result = x.applymap(lambda i: i.value())"
   ]
  },
  {
   "cell_type": "code",
   "execution_count": 108,
   "metadata": {},
   "outputs": [
    {
     "data": {
      "text/plain": [
       "0    40.0\n",
       "1    39.0\n",
       "2    40.0\n",
       "3    40.0\n",
       "4    40.0\n",
       "5    39.0\n",
       "6    40.0\n",
       "7    40.0\n",
       "dtype: float64"
      ]
     },
     "execution_count": 108,
     "metadata": {},
     "output_type": "execute_result"
    }
   ],
   "source": [
    "df_result.sum()"
   ]
  },
  {
   "cell_type": "code",
   "execution_count": 109,
   "metadata": {},
   "outputs": [
    {
     "data": {
      "text/plain": [
       "0    20.0\n",
       "1    19.0\n",
       "2    20.0\n",
       "3    20.0\n",
       "4    20.0\n",
       "5    19.0\n",
       "6    20.0\n",
       "7    20.0\n",
       "dtype: float64"
      ]
     },
     "execution_count": 109,
     "metadata": {},
     "output_type": "execute_result"
    }
   ],
   "source": [
    "df_result_g1 = df_result.copy()\n",
    "for i,g in df_st.gender.iteritems():\n",
    "    df_result_g1.loc[i,:] *= g\n",
    "df_result_g1.sum()\n"
   ]
  },
  {
   "cell_type": "code",
   "execution_count": 110,
   "metadata": {},
   "outputs": [
    {
     "data": {
      "text/plain": [
       "0    20.0\n",
       "1    20.0\n",
       "2    20.0\n",
       "3    20.0\n",
       "4    20.0\n",
       "5    20.0\n",
       "6    20.0\n",
       "7    20.0\n",
       "dtype: float64"
      ]
     },
     "execution_count": 110,
     "metadata": {},
     "output_type": "execute_result"
    }
   ],
   "source": [
    "df_result_g2 = df_result.copy()\n",
    "for i,g in df_st.gender.iteritems():\n",
    "    df_result_g2.loc[i,:] *= (1-g)\n",
    "df_result_g2.sum()\n"
   ]
  },
  {
   "cell_type": "code",
   "execution_count": 111,
   "metadata": {},
   "outputs": [
    {
     "name": "stdout",
     "output_type": "stream",
     "text": [
      "class0 [51, 57, 63, 71, 78, 81, 92, 109, 122, 123, 129, 133, 136, 138, 139, 142, 160, 173, 176, 179, 180, 193, 197, 199, 204, 210, 222, 224, 237, 243, 246, 251, 259, 268, 270, 286, 291, 293, 295, 298]\n",
      "class1 [8, 19, 20, 23, 40, 50, 67, 68, 76, 86, 88, 97, 101, 118, 120, 130, 132, 147, 150, 156, 159, 164, 171, 187, 200, 207, 219, 225, 239, 241, 252, 258, 260, 261, 263, 267, 278, 296, 316]\n",
      "class2 [2, 4, 11, 15, 29, 35, 41, 53, 64, 66, 74, 75, 93, 99, 106, 108, 117, 126, 128, 149, 151, 166, 169, 174, 178, 182, 198, 201, 216, 217, 238, 245, 248, 249, 256, 272, 276, 300, 306, 315]\n",
      "class3 [7, 9, 12, 17, 27, 33, 38, 39, 79, 83, 85, 87, 91, 113, 119, 121, 170, 183, 191, 192, 214, 218, 223, 235, 236, 244, 250, 255, 257, 271, 277, 282, 294, 297, 299, 302, 304, 310, 311, 314]\n",
      "class4 [5, 13, 22, 31, 32, 42, 43, 54, 59, 70, 96, 111, 114, 115, 124, 125, 140, 145, 162, 167, 168, 185, 189, 203, 206, 208, 212, 215, 220, 226, 230, 240, 247, 262, 269, 273, 274, 289, 303, 308]\n",
      "class5 [6, 36, 45, 46, 48, 52, 55, 58, 60, 62, 73, 80, 84, 89, 98, 100, 104, 105, 112, 116, 131, 134, 137, 172, 186, 188, 195, 211, 221, 227, 233, 264, 279, 290, 305, 307, 309, 312, 317]\n",
      "class6 [24, 25, 26, 34, 37, 47, 49, 56, 72, 77, 90, 94, 102, 110, 135, 141, 143, 144, 146, 148, 154, 155, 161, 163, 165, 175, 184, 196, 202, 205, 213, 231, 242, 253, 281, 284, 285, 288, 292, 313]\n",
      "class7 [1, 3, 10, 14, 16, 18, 21, 28, 30, 44, 61, 65, 69, 82, 95, 103, 107, 127, 152, 153, 157, 158, 177, 181, 190, 194, 209, 228, 229, 232, 234, 254, 265, 266, 275, 280, 283, 287, 301, 318]\n"
     ]
    }
   ],
   "source": [
    " for c in df_result.columns:\n",
    "     print(f'class{c}', df_result[df_result[c]>0].index.to_list())"
   ]
  },
  {
   "cell_type": "code",
   "execution_count": 112,
   "metadata": {},
   "outputs": [],
   "source": [
    "# verification\n",
    "# class\n",
    "for i, r in df_result.iterrows():\n",
    "    if r.sum() != 1:\n",
    "        raise ValueError(f'error: student_{i}, assigned class')"
   ]
  },
  {
   "cell_type": "code",
   "execution_count": 113,
   "metadata": {},
   "outputs": [],
   "source": [
    "assign_dict = {i:c for i in st_list for c in range(num_of_class) if df_result.loc[i,c] == 1}"
   ]
  },
  {
   "cell_type": "code",
   "execution_count": 114,
   "metadata": {},
   "outputs": [
    {
     "data": {
      "text/html": [
       "<div>\n",
       "<style scoped>\n",
       "    .dataframe tbody tr th:only-of-type {\n",
       "        vertical-align: middle;\n",
       "    }\n",
       "\n",
       "    .dataframe tbody tr th {\n",
       "        vertical-align: top;\n",
       "    }\n",
       "\n",
       "    .dataframe thead th {\n",
       "        text-align: right;\n",
       "    }\n",
       "</style>\n",
       "<table border=\"1\" class=\"dataframe\">\n",
       "  <thead>\n",
       "    <tr style=\"text-align: right;\">\n",
       "      <th></th>\n",
       "      <th>student_id</th>\n",
       "      <th>gender</th>\n",
       "      <th>leader_flag</th>\n",
       "      <th>support_flag</th>\n",
       "      <th>score</th>\n",
       "      <th>assigned_class</th>\n",
       "    </tr>\n",
       "  </thead>\n",
       "  <tbody>\n",
       "    <tr>\n",
       "      <th>1</th>\n",
       "      <td>1</td>\n",
       "      <td>0</td>\n",
       "      <td>0</td>\n",
       "      <td>0</td>\n",
       "      <td>335</td>\n",
       "      <td>7</td>\n",
       "    </tr>\n",
       "    <tr>\n",
       "      <th>2</th>\n",
       "      <td>2</td>\n",
       "      <td>1</td>\n",
       "      <td>0</td>\n",
       "      <td>0</td>\n",
       "      <td>379</td>\n",
       "      <td>2</td>\n",
       "    </tr>\n",
       "    <tr>\n",
       "      <th>3</th>\n",
       "      <td>3</td>\n",
       "      <td>0</td>\n",
       "      <td>0</td>\n",
       "      <td>0</td>\n",
       "      <td>350</td>\n",
       "      <td>7</td>\n",
       "    </tr>\n",
       "    <tr>\n",
       "      <th>4</th>\n",
       "      <td>4</td>\n",
       "      <td>0</td>\n",
       "      <td>0</td>\n",
       "      <td>0</td>\n",
       "      <td>301</td>\n",
       "      <td>2</td>\n",
       "    </tr>\n",
       "    <tr>\n",
       "      <th>5</th>\n",
       "      <td>5</td>\n",
       "      <td>1</td>\n",
       "      <td>0</td>\n",
       "      <td>0</td>\n",
       "      <td>317</td>\n",
       "      <td>4</td>\n",
       "    </tr>\n",
       "    <tr>\n",
       "      <th>...</th>\n",
       "      <td>...</td>\n",
       "      <td>...</td>\n",
       "      <td>...</td>\n",
       "      <td>...</td>\n",
       "      <td>...</td>\n",
       "      <td>...</td>\n",
       "    </tr>\n",
       "    <tr>\n",
       "      <th>314</th>\n",
       "      <td>314</td>\n",
       "      <td>0</td>\n",
       "      <td>0</td>\n",
       "      <td>0</td>\n",
       "      <td>244</td>\n",
       "      <td>3</td>\n",
       "    </tr>\n",
       "    <tr>\n",
       "      <th>315</th>\n",
       "      <td>315</td>\n",
       "      <td>1</td>\n",
       "      <td>0</td>\n",
       "      <td>0</td>\n",
       "      <td>309</td>\n",
       "      <td>2</td>\n",
       "    </tr>\n",
       "    <tr>\n",
       "      <th>316</th>\n",
       "      <td>316</td>\n",
       "      <td>0</td>\n",
       "      <td>0</td>\n",
       "      <td>0</td>\n",
       "      <td>239</td>\n",
       "      <td>1</td>\n",
       "    </tr>\n",
       "    <tr>\n",
       "      <th>317</th>\n",
       "      <td>317</td>\n",
       "      <td>1</td>\n",
       "      <td>0</td>\n",
       "      <td>0</td>\n",
       "      <td>356</td>\n",
       "      <td>5</td>\n",
       "    </tr>\n",
       "    <tr>\n",
       "      <th>318</th>\n",
       "      <td>318</td>\n",
       "      <td>0</td>\n",
       "      <td>0</td>\n",
       "      <td>0</td>\n",
       "      <td>256</td>\n",
       "      <td>7</td>\n",
       "    </tr>\n",
       "  </tbody>\n",
       "</table>\n",
       "<p>318 rows × 6 columns</p>\n",
       "</div>"
      ],
      "text/plain": [
       "     student_id  gender  leader_flag  support_flag  score  assigned_class\n",
       "1             1       0            0             0    335               7\n",
       "2             2       1            0             0    379               2\n",
       "3             3       0            0             0    350               7\n",
       "4             4       0            0             0    301               2\n",
       "5             5       1            0             0    317               4\n",
       "..          ...     ...          ...           ...    ...             ...\n",
       "314         314       0            0             0    244               3\n",
       "315         315       1            0             0    309               2\n",
       "316         316       0            0             0    239               1\n",
       "317         317       1            0             0    356               5\n",
       "318         318       0            0             0    256               7\n",
       "\n",
       "[318 rows x 6 columns]"
      ]
     },
     "execution_count": 114,
     "metadata": {},
     "output_type": "execute_result"
    }
   ],
   "source": [
    "df_st_r = df_st.copy()\n",
    "df_st_r['assigned_class'] = df_st_r.student_id.map(assign_dict)\n",
    "df_st_r"
   ]
  },
  {
   "cell_type": "code",
   "execution_count": 115,
   "metadata": {},
   "outputs": [
    {
     "data": {
      "text/plain": [
       "assigned_class\n",
       "0    40\n",
       "1    39\n",
       "2    40\n",
       "3    40\n",
       "4    40\n",
       "5    39\n",
       "6    40\n",
       "7    40\n",
       "Name: student_id, dtype: int64"
      ]
     },
     "execution_count": 115,
     "metadata": {},
     "output_type": "execute_result"
    }
   ],
   "source": [
    "df_st_r.groupby('assigned_class')['student_id'].count()"
   ]
  },
  {
   "cell_type": "code",
   "execution_count": null,
   "metadata": {},
   "outputs": [],
   "source": []
  }
 ],
 "metadata": {
  "interpreter": {
   "hash": "949777d72b0d2535278d3dc13498b2535136f6dfe0678499012e853ee9abcab1"
  },
  "kernelspec": {
   "display_name": "Python 3.9.1 64-bit",
   "language": "python",
   "name": "python3"
  },
  "language_info": {
   "codemirror_mode": {
    "name": "ipython",
    "version": 3
   },
   "file_extension": ".py",
   "mimetype": "text/x-python",
   "name": "python",
   "nbconvert_exporter": "python",
   "pygments_lexer": "ipython3",
   "version": "3.9.1"
  },
  "orig_nbformat": 4
 },
 "nbformat": 4,
 "nbformat_minor": 2
}
