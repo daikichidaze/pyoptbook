{
 "cells": [
  {
   "cell_type": "markdown",
   "metadata": {},
   "source": [
    "# 条件\n",
    "1. 学年の全生徒をそれぞれ１つのクラスに割り当てる\n",
    "1. 各クラスの生徒の人数は39人以上、40人以下\n",
    "1. 各クラスの男子生徒、女子生徒の人数は20人以下\n",
    "1. 各クラスの学力試験の平均点は学年平均±10点とする\n",
    "1. 各クラスにリーダー気質の生徒を2人以上割り当てる\n",
    "1. 特別な支援が必要な生徒は各クラスに1人以下とする\n",
    "1. 特定ペアの生徒は同一クラスに割り当てない"
   ]
  },
  {
   "cell_type": "code",
   "execution_count": null,
   "metadata": {},
   "outputs": [],
   "source": [
    "!ls"
   ]
  },
  {
   "cell_type": "code",
   "execution_count": null,
   "metadata": {},
   "outputs": [],
   "source": []
  }
 ],
 "metadata": {
  "language_info": {
   "name": "python"
  },
  "orig_nbformat": 4
 },
 "nbformat": 4,
 "nbformat_minor": 2
}
